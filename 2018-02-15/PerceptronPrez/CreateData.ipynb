{
 "cells": [
  {
   "cell_type": "code",
   "execution_count": 1,
   "metadata": {
    "collapsed": true
   },
   "outputs": [],
   "source": [
    "%matplotlib inline\n",
    "import matplotlib\n",
    "import matplotlib.pyplot as plt\n",
    "import numpy as np"
   ]
  },
  {
   "cell_type": "code",
   "execution_count": 7,
   "metadata": {
    "collapsed": true
   },
   "outputs": [],
   "source": [
    "data = np.random.rand(50, 2) * 100"
   ]
  },
  {
   "cell_type": "code",
   "execution_count": 17,
   "metadata": {},
   "outputs": [
    {
     "data": {
      "text/plain": [
       "<matplotlib.text.Text at 0x112059160>"
      ]
     },
     "execution_count": 17,
     "metadata": {},
     "output_type": "execute_result"
    },
    {
     "data": {
      "image/png": "[encoded data removed]",
      "text/plain": [
       "<matplotlib.figure.Figure at 0x1121434a8>"
      ]
     },
     "metadata": {},
     "output_type": "display_data"
    }
   ],
   "source": [
    "plt.scatter(data[:, 0], data[:, 1])\n",
    "plt.plot([0, 100], [22, 80])\n",
    "plt.ylabel('Weight (oz)')\n",
    "plt.xlabel('Transparancy (%)')"
   ]
  },
  {
   "cell_type": "code",
   "execution_count": 18,
   "metadata": {
    "collapsed": true
   },
   "outputs": [],
   "source": [
    "np.savetxt(\"data.csv\", data, delimiter=\",\")"
   ]
  },
  {
   "cell_type": "code",
   "execution_count": 19,
   "metadata": {
    "collapsed": true
   },
   "outputs": [],
   "source": [
    "import pandas as pd"
   ]
  },
  {
   "cell_type": "code",
   "execution_count": 37,
   "metadata": {
    "collapsed": true
   },
   "outputs": [],
   "source": [
    "df = pd.read_csv('data.csv')"
   ]
  },
  {
   "cell_type": "code",
   "execution_count": 38,
   "metadata": {},
   "outputs": [
    {
     "data": {
      "text/html": [
       "<div>\n",
       "<table border=\"1\" class=\"dataframe\">\n",
       "  <thead>\n",
       "    <tr style=\"text-align: right;\">\n",
       "      <th></th>\n",
       "      <th>transparancy</th>\n",
       "      <th>weight</th>\n",
       "      <th>label</th>\n",
       "    </tr>\n",
       "  </thead>\n",
       "  <tbody>\n",
       "    <tr>\n",
       "      <th>0</th>\n",
       "      <td>83.705857</td>\n",
       "      <td>16.628509</td>\n",
       "      <td>candy</td>\n",
       "    </tr>\n",
       "    <tr>\n",
       "      <th>1</th>\n",
       "      <td>8.581391</td>\n",
       "      <td>95.546888</td>\n",
       "      <td>pod</td>\n",
       "    </tr>\n",
       "    <tr>\n",
       "      <th>2</th>\n",
       "      <td>33.429012</td>\n",
       "      <td>32.443854</td>\n",
       "      <td>candy</td>\n",
       "    </tr>\n",
       "    <tr>\n",
       "      <th>3</th>\n",
       "      <td>29.212901</td>\n",
       "      <td>94.428515</td>\n",
       "      <td>pod</td>\n",
       "    </tr>\n",
       "    <tr>\n",
       "      <th>4</th>\n",
       "      <td>1.610232</td>\n",
       "      <td>60.801170</td>\n",
       "      <td>pod</td>\n",
       "    </tr>\n",
       "    <tr>\n",
       "      <th>5</th>\n",
       "      <td>56.024461</td>\n",
       "      <td>56.955379</td>\n",
       "      <td>pod</td>\n",
       "    </tr>\n",
       "    <tr>\n",
       "      <th>6</th>\n",
       "      <td>6.470196</td>\n",
       "      <td>11.817457</td>\n",
       "      <td>candy</td>\n",
       "    </tr>\n",
       "    <tr>\n",
       "      <th>7</th>\n",
       "      <td>92.383301</td>\n",
       "      <td>72.757835</td>\n",
       "      <td>candy</td>\n",
       "    </tr>\n",
       "    <tr>\n",
       "      <th>8</th>\n",
       "      <td>97.576275</td>\n",
       "      <td>27.297073</td>\n",
       "      <td>candy</td>\n",
       "    </tr>\n",
       "    <tr>\n",
       "      <th>9</th>\n",
       "      <td>82.117270</td>\n",
       "      <td>11.081574</td>\n",
       "      <td>candy</td>\n",
       "    </tr>\n",
       "    <tr>\n",
       "      <th>10</th>\n",
       "      <td>22.717740</td>\n",
       "      <td>64.464204</td>\n",
       "      <td>pod</td>\n",
       "    </tr>\n",
       "    <tr>\n",
       "      <th>11</th>\n",
       "      <td>34.388903</td>\n",
       "      <td>52.787726</td>\n",
       "      <td>pod</td>\n",
       "    </tr>\n",
       "    <tr>\n",
       "      <th>12</th>\n",
       "      <td>35.224263</td>\n",
       "      <td>1.200433</td>\n",
       "      <td>candy</td>\n",
       "    </tr>\n",
       "    <tr>\n",
       "      <th>13</th>\n",
       "      <td>15.630274</td>\n",
       "      <td>62.104377</td>\n",
       "      <td>pod</td>\n",
       "    </tr>\n",
       "    <tr>\n",
       "      <th>14</th>\n",
       "      <td>88.427440</td>\n",
       "      <td>64.507636</td>\n",
       "      <td>candy</td>\n",
       "    </tr>\n",
       "    <tr>\n",
       "      <th>15</th>\n",
       "      <td>65.014246</td>\n",
       "      <td>16.174790</td>\n",
       "      <td>candy</td>\n",
       "    </tr>\n",
       "    <tr>\n",
       "      <th>16</th>\n",
       "      <td>80.575923</td>\n",
       "      <td>24.607027</td>\n",
       "      <td>candy</td>\n",
       "    </tr>\n",
       "    <tr>\n",
       "      <th>17</th>\n",
       "      <td>96.924446</td>\n",
       "      <td>40.345296</td>\n",
       "      <td>candy</td>\n",
       "    </tr>\n",
       "    <tr>\n",
       "      <th>18</th>\n",
       "      <td>33.634484</td>\n",
       "      <td>25.467436</td>\n",
       "      <td>candy</td>\n",
       "    </tr>\n",
       "    <tr>\n",
       "      <th>19</th>\n",
       "      <td>36.306806</td>\n",
       "      <td>76.265226</td>\n",
       "      <td>pod</td>\n",
       "    </tr>\n",
       "    <tr>\n",
       "      <th>20</th>\n",
       "      <td>34.595385</td>\n",
       "      <td>18.912291</td>\n",
       "      <td>candy</td>\n",
       "    </tr>\n",
       "    <tr>\n",
       "      <th>21</th>\n",
       "      <td>36.597101</td>\n",
       "      <td>84.732437</td>\n",
       "      <td>pod</td>\n",
       "    </tr>\n",
       "    <tr>\n",
       "      <th>22</th>\n",
       "      <td>74.344320</td>\n",
       "      <td>40.510418</td>\n",
       "      <td>candy</td>\n",
       "    </tr>\n",
       "    <tr>\n",
       "      <th>23</th>\n",
       "      <td>5.814613</td>\n",
       "      <td>63.447543</td>\n",
       "      <td>pod</td>\n",
       "    </tr>\n",
       "    <tr>\n",
       "      <th>24</th>\n",
       "      <td>68.046700</td>\n",
       "      <td>63.787019</td>\n",
       "      <td>pod</td>\n",
       "    </tr>\n",
       "    <tr>\n",
       "      <th>25</th>\n",
       "      <td>3.468625</td>\n",
       "      <td>57.824871</td>\n",
       "      <td>pod</td>\n",
       "    </tr>\n",
       "    <tr>\n",
       "      <th>26</th>\n",
       "      <td>82.811539</td>\n",
       "      <td>63.531636</td>\n",
       "      <td>candy</td>\n",
       "    </tr>\n",
       "    <tr>\n",
       "      <th>27</th>\n",
       "      <td>56.066753</td>\n",
       "      <td>99.550480</td>\n",
       "      <td>pod</td>\n",
       "    </tr>\n",
       "    <tr>\n",
       "      <th>28</th>\n",
       "      <td>79.820589</td>\n",
       "      <td>60.786997</td>\n",
       "      <td>candy</td>\n",
       "    </tr>\n",
       "    <tr>\n",
       "      <th>29</th>\n",
       "      <td>80.803724</td>\n",
       "      <td>51.209626</td>\n",
       "      <td>candy</td>\n",
       "    </tr>\n",
       "    <tr>\n",
       "      <th>30</th>\n",
       "      <td>39.679658</td>\n",
       "      <td>61.294171</td>\n",
       "      <td>pod</td>\n",
       "    </tr>\n",
       "    <tr>\n",
       "      <th>31</th>\n",
       "      <td>5.450467</td>\n",
       "      <td>65.067732</td>\n",
       "      <td>pod</td>\n",
       "    </tr>\n",
       "    <tr>\n",
       "      <th>32</th>\n",
       "      <td>84.900887</td>\n",
       "      <td>55.058127</td>\n",
       "      <td>candy</td>\n",
       "    </tr>\n",
       "    <tr>\n",
       "      <th>33</th>\n",
       "      <td>5.738571</td>\n",
       "      <td>96.909408</td>\n",
       "      <td>pod</td>\n",
       "    </tr>\n",
       "    <tr>\n",
       "      <th>34</th>\n",
       "      <td>40.821003</td>\n",
       "      <td>10.788036</td>\n",
       "      <td>candy</td>\n",
       "    </tr>\n",
       "    <tr>\n",
       "      <th>35</th>\n",
       "      <td>64.288945</td>\n",
       "      <td>40.200975</td>\n",
       "      <td>candy</td>\n",
       "    </tr>\n",
       "    <tr>\n",
       "      <th>36</th>\n",
       "      <td>14.752469</td>\n",
       "      <td>19.059048</td>\n",
       "      <td>candy</td>\n",
       "    </tr>\n",
       "    <tr>\n",
       "      <th>37</th>\n",
       "      <td>58.038968</td>\n",
       "      <td>59.207004</td>\n",
       "      <td>pod</td>\n",
       "    </tr>\n",
       "    <tr>\n",
       "      <th>38</th>\n",
       "      <td>66.679493</td>\n",
       "      <td>66.054703</td>\n",
       "      <td>pod</td>\n",
       "    </tr>\n",
       "    <tr>\n",
       "      <th>39</th>\n",
       "      <td>84.199532</td>\n",
       "      <td>52.342444</td>\n",
       "      <td>candy</td>\n",
       "    </tr>\n",
       "    <tr>\n",
       "      <th>40</th>\n",
       "      <td>9.888414</td>\n",
       "      <td>56.677173</td>\n",
       "      <td>pod</td>\n",
       "    </tr>\n",
       "    <tr>\n",
       "      <th>41</th>\n",
       "      <td>14.010708</td>\n",
       "      <td>28.420584</td>\n",
       "      <td>candy</td>\n",
       "    </tr>\n",
       "    <tr>\n",
       "      <th>42</th>\n",
       "      <td>96.599676</td>\n",
       "      <td>7.979637</td>\n",
       "      <td>candy</td>\n",
       "    </tr>\n",
       "    <tr>\n",
       "      <th>43</th>\n",
       "      <td>87.883351</td>\n",
       "      <td>38.554208</td>\n",
       "      <td>candy</td>\n",
       "    </tr>\n",
       "    <tr>\n",
       "      <th>44</th>\n",
       "      <td>23.704276</td>\n",
       "      <td>91.162097</td>\n",
       "      <td>pod</td>\n",
       "    </tr>\n",
       "    <tr>\n",
       "      <th>45</th>\n",
       "      <td>94.209422</td>\n",
       "      <td>44.681557</td>\n",
       "      <td>candy</td>\n",
       "    </tr>\n",
       "    <tr>\n",
       "      <th>46</th>\n",
       "      <td>98.434701</td>\n",
       "      <td>82.766743</td>\n",
       "      <td>pod</td>\n",
       "    </tr>\n",
       "    <tr>\n",
       "      <th>47</th>\n",
       "      <td>33.163682</td>\n",
       "      <td>68.053337</td>\n",
       "      <td>pod</td>\n",
       "    </tr>\n",
       "    <tr>\n",
       "      <th>48</th>\n",
       "      <td>98.692171</td>\n",
       "      <td>45.719443</td>\n",
       "      <td>candy</td>\n",
       "    </tr>\n",
       "    <tr>\n",
       "      <th>49</th>\n",
       "      <td>46.024398</td>\n",
       "      <td>97.291041</td>\n",
       "      <td>pod</td>\n",
       "    </tr>\n",
       "  </tbody>\n",
       "</table>\n",
       "</div>"
      ],
      "text/plain": [
       "    transparancy     weight  label\n",
       "0      83.705857  16.628509  candy\n",
       "1       8.581391  95.546888    pod\n",
       "2      33.429012  32.443854  candy\n",
       "3      29.212901  94.428515    pod\n",
       "4       1.610232  60.801170    pod\n",
       "5      56.024461  56.955379    pod\n",
       "6       6.470196  11.817457  candy\n",
       "7      92.383301  72.757835  candy\n",
       "8      97.576275  27.297073  candy\n",
       "9      82.117270  11.081574  candy\n",
       "10     22.717740  64.464204    pod\n",
       "11     34.388903  52.787726    pod\n",
       "12     35.224263   1.200433  candy\n",
       "13     15.630274  62.104377    pod\n",
       "14     88.427440  64.507636  candy\n",
       "15     65.014246  16.174790  candy\n",
       "16     80.575923  24.607027  candy\n",
       "17     96.924446  40.345296  candy\n",
       "18     33.634484  25.467436  candy\n",
       "19     36.306806  76.265226    pod\n",
       "20     34.595385  18.912291  candy\n",
       "21     36.597101  84.732437    pod\n",
       "22     74.344320  40.510418  candy\n",
       "23      5.814613  63.447543    pod\n",
       "24     68.046700  63.787019    pod\n",
       "25      3.468625  57.824871    pod\n",
       "26     82.811539  63.531636  candy\n",
       "27     56.066753  99.550480    pod\n",
       "28     79.820589  60.786997  candy\n",
       "29     80.803724  51.209626  candy\n",
       "30     39.679658  61.294171    pod\n",
       "31      5.450467  65.067732    pod\n",
       "32     84.900887  55.058127  candy\n",
       "33      5.738571  96.909408    pod\n",
       "34     40.821003  10.788036  candy\n",
       "35     64.288945  40.200975  candy\n",
       "36     14.752469  19.059048  candy\n",
       "37     58.038968  59.207004    pod\n",
       "38     66.679493  66.054703    pod\n",
       "39     84.199532  52.342444  candy\n",
       "40      9.888414  56.677173    pod\n",
       "41     14.010708  28.420584  candy\n",
       "42     96.599676   7.979637  candy\n",
       "43     87.883351  38.554208  candy\n",
       "44     23.704276  91.162097    pod\n",
       "45     94.209422  44.681557  candy\n",
       "46     98.434701  82.766743    pod\n",
       "47     33.163682  68.053337    pod\n",
       "48     98.692171  45.719443  candy\n",
       "49     46.024398  97.291041    pod"
      ]
     },
     "execution_count": 38,
     "metadata": {},
     "output_type": "execute_result"
    }
   ],
   "source": [
    "df"
   ]
  },
  {
   "cell_type": "code",
   "execution_count": 39,
   "metadata": {},
   "outputs": [
    {
     "data": {
      "text/plain": [
       "<matplotlib.text.Text at 0x1142bd860>"
      ]
     },
     "execution_count": 39,
     "metadata": {},
     "output_type": "execute_result"
    },
    {
     "data": {
      "image/png": "[encoded data removed]",
      "text/plain": [
       "<matplotlib.figure.Figure at 0x1141aee10>"
      ]
     },
     "metadata": {},
     "output_type": "display_data"
    }
   ],
   "source": [
    "plt.scatter(df['transparancy'], df['weight'], c=df['label'].apply(lambda x: 'blue' if x == 'candy' else 'red' ))\n",
    "plt.plot([0, 100], [22, 80])\n",
    "plt.ylabel('Weight (g)')\n",
    "plt.xlabel('Transparancy (%)')"
   ]
  },
  {
   "cell_type": "code",
   "execution_count": 2,
   "metadata": {
    "collapsed": true
   },
   "outputs": [],
   "source": [
    "test = np.random.rand(20, 2) * 100"
   ]
  },
  {
   "cell_type": "code",
   "execution_count": 3,
   "metadata": {
    "collapsed": true
   },
   "outputs": [],
   "source": [
    "np.savetxt(\"test.csv\", test, delimiter=\",\")"
   ]
  },
  {
   "cell_type": "code",
   "execution_count": 14,
   "metadata": {},
   "outputs": [],
   "source": [
    "import pandas as pd\n",
    "tf = pd.read_csv('test.csv')\n",
    "tf['label'] = np.where(0.58*tf[\"transparancy (%)\"] + 22 - tf[\"weight (g)\"] >= 0, 'candy', 'pod')"
   ]
  },
  {
   "cell_type": "code",
   "execution_count": 17,
   "metadata": {},
   "outputs": [],
   "source": [
    "tf.to_csv('test.csv', sep=',')"
   ]
  },
  {
   "cell_type": "code",
   "execution_count": 16,
   "metadata": {},
   "outputs": [
    {
     "data": {
      "text/plain": [
       "<matplotlib.collections.PathCollection at 0x108fc9d30>"
      ]
     },
     "execution_count": 16,
     "metadata": {},
     "output_type": "execute_result"
    },
    {
     "data": {
      "image/png": "[encoded data removed]",
      "text/plain": [
       "<matplotlib.figure.Figure at 0x108e05eb8>"
      ]
     },
     "metadata": {},
     "output_type": "display_data"
    }
   ],
   "source": [
    "plt.scatter(tf[\"transparancy (%)\"], tf[\"weight (g)\"], c=tf['label'].apply(lambda x: 'blue' if x == 'candy' else 'red' ))"
   ]
  },
  {
   "cell_type": "code",
   "execution_count": null,
   "metadata": {
    "collapsed": true
   },
   "outputs": [],
   "source": []
  }
 ],
 "metadata": {
  "kernelspec": {
   "display_name": "Python 3",
   "language": "python",
   "name": "python3"
  },
  "language_info": {
   "codemirror_mode": {
    "name": "ipython",
    "version": 3
   },
   "file_extension": ".py",
   "mimetype": "text/x-python",
   "name": "python",
   "nbconvert_exporter": "python",
   "pygments_lexer": "ipython3",
   "version": "3.6.0"
  }
 },
 "nbformat": 4,
 "nbformat_minor": 2
}
